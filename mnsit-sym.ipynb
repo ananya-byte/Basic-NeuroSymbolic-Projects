{
 "cells": [
  {
   "cell_type": "markdown",
   "id": "400b2543",
   "metadata": {},
   "source": [
    "#### Step1. Import the relative modules"
   ]
  },
  {
   "cell_type": "code",
   "execution_count": null,
   "id": "da7d73f3",
   "metadata": {},
   "outputs": [
    {
     "name": "stderr",
     "output_type": "stream",
     "text": [
      "/Users/ananya/Library/Python/3.9/lib/python/site-packages/urllib3/__init__.py:35: NotOpenSSLWarning: urllib3 v2 only supports OpenSSL 1.1.1+, currently the 'ssl' module is compiled with 'LibreSSL 2.8.3'. See: https://github.com/urllib3/urllib3/issues/3020\n",
      "  warnings.warn(\n"
     ]
    }
   ],
   "source": [
    "import tensorflow as tf\n",
    "from tensorflow import keras\n",
    "from keras import Sequential\n",
    "from keras.layers import Dense,Flatten\n",
    "from keras.datasets import mnist\n",
    "import numpy as np\n",
    "import matplotlib.pyplot as plt"
   ]
  },
  {
   "cell_type": "markdown",
   "id": "5ef39d12",
   "metadata": {},
   "source": [
    "#### Step2. Load the MNSIT data\n",
    "The MNSIT data is a dataset of handwritten numbers"
   ]
  },
  {
   "cell_type": "code",
   "execution_count": 31,
   "id": "6bc551f0",
   "metadata": {},
   "outputs": [
    {
     "name": "stdout",
     "output_type": "stream",
     "text": [
      "X_train shape: (60000, 28, 28, 1)\n",
      "Y_train shape: (60000,)\n",
      "X_test shape: (10000, 28, 28, 1)\n",
      "Y_test shape: (10000,)\n"
     ]
    }
   ],
   "source": [
    "(X_train, Y_train), (X_test, Y_test) = mnist.load_data()\n",
    "X_train = X_train.reshape(-1, 28, 28, 1) / 255.0\n",
    "X_test = X_test.reshape(-1, 28, 28, 1) / 255.0\n",
    "\n",
    "print(\"X_train shape:\", X_train.shape)\n",
    "print(\"Y_train shape:\", Y_train.shape)\n",
    "print(\"X_test shape:\", X_test.shape)\n",
    "print(\"Y_test shape:\", Y_test.shape)"
   ]
  },
  {
   "cell_type": "markdown",
   "id": "a42cc6e2",
   "metadata": {},
   "source": [
    "####Step 3. Build and Train Neural Network"
   ]
  },
  {
   "cell_type": "code",
   "execution_count": 39,
   "id": "e9cfb323",
   "metadata": {},
   "outputs": [
    {
     "name": "stdout",
     "output_type": "stream",
     "text": [
      "Epoch 1/2\n"
     ]
    },
    {
     "name": "stderr",
     "output_type": "stream",
     "text": [
      "/Users/ananya/Library/Python/3.9/lib/python/site-packages/keras/src/layers/convolutional/base_conv.py:113: UserWarning: Do not pass an `input_shape`/`input_dim` argument to a layer. When using Sequential models, prefer using an `Input(shape)` object as the first layer in the model instead.\n",
      "  super().__init__(activity_regularizer=activity_regularizer, **kwargs)\n"
     ]
    },
    {
     "name": "stdout",
     "output_type": "stream",
     "text": [
      "\u001b[1m1688/1688\u001b[0m \u001b[32m━━━━━━━━━━━━━━━━━━━━\u001b[0m\u001b[37m\u001b[0m \u001b[1m9s\u001b[0m 5ms/step - accuracy: 0.8217 - loss: 0.5599 - val_accuracy: 0.9795 - val_loss: 0.0621\n",
      "Epoch 2/2\n",
      "\u001b[1m1688/1688\u001b[0m \u001b[32m━━━━━━━━━━━━━━━━━━━━\u001b[0m\u001b[37m\u001b[0m \u001b[1m9s\u001b[0m 5ms/step - accuracy: 0.9617 - loss: 0.1280 - val_accuracy: 0.9872 - val_loss: 0.0421\n"
     ]
    },
    {
     "data": {
      "text/plain": [
       "<keras.src.callbacks.history.History at 0x3c8a73640>"
      ]
     },
     "execution_count": 39,
     "metadata": {},
     "output_type": "execute_result"
    }
   ],
   "source": [
    "# Model\n",
    "model = tf.keras.Sequential([\n",
    "    tf.keras.layers.Conv2D(32, (3,3), activation='relu', input_shape=(28,28,1)),\n",
    "    tf.keras.layers.MaxPooling2D(),\n",
    "    tf.keras.layers.Conv2D(64, (3,3), activation='relu'),\n",
    "    tf.keras.layers.MaxPooling2D(),\n",
    "    tf.keras.layers.Flatten(),\n",
    "    tf.keras.layers.Dense(64, activation='relu'),\n",
    "    tf.keras.layers.Dropout(0.5),\n",
    "    tf.keras.layers.Dense(10, activation='softmax')\n",
    "])\n",
    "\n",
    "model.compile(optimizer='adam', loss='sparse_categorical_crossentropy', metrics=['accuracy'])\n",
    "model.fit(X_train, Y_train, epochs=2, validation_split=0.1)"
   ]
  },
  {
   "cell_type": "markdown",
   "id": "8c1b5a0a",
   "metadata": {},
   "source": [
    "#### Symbolic Logic Reasoning"
   ]
  },
  {
   "cell_type": "code",
   "execution_count": 40,
   "id": "a37bd84e",
   "metadata": {},
   "outputs": [],
   "source": [
    "def is_even(n):\n",
    "    return n%2 ==0\n",
    "\n",
    "def is_prime(n):\n",
    "    if n<2:\n",
    "        return False\n",
    "    for i in range(2,int(n**0.5)+1):\n",
    "        if n% i==0:\n",
    "            return False\n",
    "    return True"
   ]
  },
  {
   "cell_type": "markdown",
   "id": "dabf3221",
   "metadata": {},
   "source": [
    "#### Combining both"
   ]
  },
  {
   "cell_type": "code",
   "execution_count": 41,
   "id": "03762407",
   "metadata": {},
   "outputs": [
    {
     "name": "stdout",
     "output_type": "stream",
     "text": [
      "\u001b[1m1/1\u001b[0m \u001b[32m━━━━━━━━━━━━━━━━━━━━\u001b[0m\u001b[37m\u001b[0m \u001b[1m0s\u001b[0m 29ms/step\n",
      "Neural network prediction: 2\n",
      "Ground truth: 4\n",
      "Is it even? True\n",
      "Is it prime? True\n"
     ]
    }
   ],
   "source": [
    "img_idx = 247\n",
    "img = np.expand_dims(X_test[img_idx],axis=0)\n",
    "\n",
    "\n",
    "# predict digit\n",
    "\n",
    "pred_probs = model.predict(img)\n",
    "pred_digit = np.argmax(pred_probs)\n",
    "\n",
    "print(f\"Neural network prediction: {pred_digit}\")\n",
    "print(f\"Ground truth: {Y_test[img_idx]}\")\n",
    "\n",
    "print(f\"Is it even? {is_even(pred_digit)}\")\n",
    "print(f\"Is it prime? {is_prime(pred_digit)}\")"
   ]
  },
  {
   "cell_type": "code",
   "execution_count": null,
   "id": "132a9642",
   "metadata": {},
   "outputs": [],
   "source": []
  }
 ],
 "metadata": {
  "kernelspec": {
   "display_name": "Python 3",
   "language": "python",
   "name": "python3"
  },
  "language_info": {
   "codemirror_mode": {
    "name": "ipython",
    "version": 3
   },
   "file_extension": ".py",
   "mimetype": "text/x-python",
   "name": "python",
   "nbconvert_exporter": "python",
   "pygments_lexer": "ipython3",
   "version": "3.9.6"
  }
 },
 "nbformat": 4,
 "nbformat_minor": 5
}
